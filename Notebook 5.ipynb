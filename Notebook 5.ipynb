{
  "nbformat": 4,
  "nbformat_minor": 0,
  "metadata": {
    "kernelspec": {
      "display_name": "Python 3",
      "language": "python",
      "name": "python3"
    },
    "language_info": {
      "codemirror_mode": {
        "name": "ipython",
        "version": 3
      },
      "file_extension": ".py",
      "mimetype": "text/x-python",
      "name": "python",
      "nbconvert_exporter": "python",
      "pygments_lexer": "ipython3",
      "version": "3.7.3"
    },
    "colab": {
      "provenance": [],
      "include_colab_link": true
    }
  },
  "cells": [
    {
      "cell_type": "markdown",
      "metadata": {
        "id": "view-in-github",
        "colab_type": "text"
      },
      "source": [
        "<a href=\"https://colab.research.google.com/github/MDKorb/Notebooks/blob/main/Notebook5.ipynb\" target=\"_parent\"><img src=\"https://colab.research.google.com/assets/colab-badge.svg\" alt=\"Open In Colab\"/></a>"
      ]
    },
    {
      "cell_type": "markdown",
      "metadata": {
        "id": "Gp2WddtV9IwG"
      },
      "source": [
        "# Programa Ingenias+ Data Science"
      ]
    },
    {
      "cell_type": "markdown",
      "metadata": {
        "id": "X03mviQS9IyL"
      },
      "source": [
        "# Ejercicios\n",
        "\n",
        "1. Crear un arreglo de ceros de longitud 12\n",
        "2. Crear un arreglo de longitud 10 con ceros en todas sus posiciones y un 10 en la posición número 5\n",
        "3. Crear un arreglo que tenga los números del 10 al 49\n",
        "4. Crear una arreglo 2d de shape (3, 3) que tenga los números del 0 al 8\n",
        "5. Crear un arreglo de números aleatorios de longitud 100 y obtener su media y varianza\n",
        "6. Calcular la media de un arreglo usando np.sum\n",
        "7. Calcular la varianza de un arreglo usando np.sum y np.mean\n",
        "8. Crear un array de números aleatorios usando np.random.randn.\n"
      ]
    },
    {
      "cell_type": "code",
      "source": [
        "#Importar numpy\n",
        "import numpy as np"
      ],
      "metadata": {
        "id": "_Ml6ucHAe0dr"
      },
      "execution_count": 2,
      "outputs": []
    },
    {
      "cell_type": "code",
      "source": [
        "#Ejercicio 1: Crear un arreglo de ceros de longitud 12\n",
        "array_ceros=np.zeros(12)\n",
        "print(array_ceros)\n",
        "len (array_ceros)"
      ],
      "metadata": {
        "id": "bDHUnDG-e0TB",
        "colab": {
          "base_uri": "https://localhost:8080/"
        },
        "outputId": "c38bca00-d053-4fb3-86ba-0a62ada1233b"
      },
      "execution_count": 6,
      "outputs": [
        {
          "output_type": "stream",
          "name": "stdout",
          "text": [
            "[0. 0. 0. 0. 0. 0. 0. 0. 0. 0. 0. 0.]\n"
          ]
        },
        {
          "output_type": "execute_result",
          "data": {
            "text/plain": [
              "12"
            ]
          },
          "metadata": {},
          "execution_count": 6
        }
      ]
    },
    {
      "cell_type": "code",
      "source": [
        "#prueba: arreglo de unos de longitud 5\n",
        "array_unos=np.ones(5)\n",
        "print(array_unos)"
      ],
      "metadata": {
        "colab": {
          "base_uri": "https://localhost:8080/"
        },
        "id": "nLlHeu0Obg5t",
        "outputId": "338d9751-07da-4a00-8b24-ab9f9661c03f"
      },
      "execution_count": 7,
      "outputs": [
        {
          "output_type": "stream",
          "name": "stdout",
          "text": [
            "[1. 1. 1. 1. 1.]\n"
          ]
        }
      ]
    },
    {
      "cell_type": "code",
      "source": [
        "#Ejercicio 2: Crear un arreglo de longitud 10 con ceros en todas sus posiciones y un 10 en la posición número 5\n",
        "array_diez=np.zeros(10)\n",
        "array_diez[5]=10\n",
        "print(array_diez)"
      ],
      "metadata": {
        "colab": {
          "base_uri": "https://localhost:8080/"
        },
        "id": "d0bEPMKDf-_l",
        "outputId": "77388de1-4ed7-404f-9420-fdfaa3433e89"
      },
      "execution_count": 8,
      "outputs": [
        {
          "output_type": "stream",
          "name": "stdout",
          "text": [
            "[ 0.  0.  0.  0.  0. 10.  0.  0.  0.  0.]\n"
          ]
        }
      ]
    },
    {
      "cell_type": "code",
      "source": [
        "#prueba 2: en el arreglo de unos, que la tercer posicion tenga un 7\n",
        "array_unos[3]=7\n",
        "print(array_unos)"
      ],
      "metadata": {
        "colab": {
          "base_uri": "https://localhost:8080/"
        },
        "id": "3TQn79_Yb508",
        "outputId": "1ca24a8e-2f84-4c6b-9848-094b1120d448"
      },
      "execution_count": 9,
      "outputs": [
        {
          "output_type": "stream",
          "name": "stdout",
          "text": [
            "[1. 1. 1. 7. 1.]\n"
          ]
        }
      ]
    },
    {
      "cell_type": "code",
      "source": [
        "#Ejercicio 3: Crear un arreglo que tenga los números del 10 al 49\n",
        "array_10_49=np.arange(10,50)\n",
        "print(array_10_49)"
      ],
      "metadata": {
        "colab": {
          "base_uri": "https://localhost:8080/"
        },
        "id": "M3TJDCz1g-i7",
        "outputId": "7886d1d6-4e9a-452c-fc94-c9aafcba8bbc"
      },
      "execution_count": 4,
      "outputs": [
        {
          "output_type": "stream",
          "name": "stdout",
          "text": [
            "[10 11 12 13 14 15 16 17 18 19 20 21 22 23 24 25 26 27 28 29 30 31 32 33\n",
            " 34 35 36 37 38 39 40 41 42 43 44 45 46 47 48 49]\n"
          ]
        }
      ]
    },
    {
      "cell_type": "code",
      "source": [
        "#Ejercicio 4: Crear una arreglo 2d de shape (3, 3) que tenga los números del 0 al 8\n",
        "array_8_10=np.arange(9).reshape(3,3)\n",
        "print(array_8_10)"
      ],
      "metadata": {
        "colab": {
          "base_uri": "https://localhost:8080/"
        },
        "id": "IWBKX2tKguGs",
        "outputId": "20ee0674-ea49-437a-ae1e-3f9b4ce27528"
      },
      "execution_count": 11,
      "outputs": [
        {
          "output_type": "stream",
          "name": "stdout",
          "text": [
            "[[0 1 2]\n",
            " [3 4 5]\n",
            " [6 7 8]]\n"
          ]
        }
      ]
    },
    {
      "cell_type": "code",
      "source": [
        "#Ejercicio 5: Crear un arreglo de números aleatorios de longitud 100 y obtener su media y varianza\n",
        "array_100=np.random.rand(100)\n",
        "print(array_100)\n",
        "\n",
        "media = np.mean(array_100)\n",
        "print(\"Media:\", media)\n",
        "\n",
        "varianza = np.var(array_100)\n",
        "print(\"Varianza:\", varianza)"
      ],
      "metadata": {
        "colab": {
          "base_uri": "https://localhost:8080/"
        },
        "id": "N8mMKTPGf_Vu",
        "outputId": "9f41dcac-46b8-413a-e7b2-69e52f50bfca"
      },
      "execution_count": 13,
      "outputs": [
        {
          "output_type": "stream",
          "name": "stdout",
          "text": [
            "[7.66637729e-01 5.65659815e-01 2.07319197e-01 7.76044479e-01\n",
            " 6.47703921e-01 4.30618231e-01 7.27483292e-01 5.79936790e-01\n",
            " 8.99020725e-01 1.68143888e-01 3.16196870e-01 6.67388331e-01\n",
            " 3.46848442e-01 1.42802987e-01 5.16584544e-01 8.56252669e-01\n",
            " 4.99790999e-01 6.45565025e-01 8.30310409e-01 6.52634031e-01\n",
            " 5.34895654e-01 6.08961819e-02 3.45706084e-01 7.55603835e-01\n",
            " 7.02969224e-01 4.76158263e-01 1.27917052e-04 2.40099087e-01\n",
            " 8.30153419e-01 9.06611515e-01 5.18985852e-01 6.48095681e-01\n",
            " 6.08752750e-01 1.81849220e-01 6.19784201e-01 3.69987580e-01\n",
            " 1.05357683e-01 6.85195232e-01 5.50864051e-01 6.07726077e-01\n",
            " 4.03331058e-01 4.04349133e-01 8.07554425e-01 2.04708931e-01\n",
            " 2.14541394e-01 9.13613892e-01 3.57095591e-01 3.46307222e-01\n",
            " 1.63903009e-01 1.59098683e-01 8.26086655e-01 4.71400543e-01\n",
            " 4.63958149e-01 2.95215205e-01 1.81926053e-01 3.50515234e-01\n",
            " 6.63180600e-01 7.07719820e-01 7.00341025e-01 3.77061102e-01\n",
            " 3.17696165e-01 5.53685167e-01 8.92803103e-02 4.91638108e-01\n",
            " 3.07621497e-01 2.44762466e-01 4.10769841e-01 7.76530439e-01\n",
            " 6.68892128e-01 2.83094871e-01 7.22870770e-01 7.87636826e-02\n",
            " 8.10990101e-01 9.42486374e-01 9.58225733e-01 8.72718828e-01\n",
            " 9.95861025e-02 9.74215520e-01 1.39251549e-01 1.40886507e-01\n",
            " 6.17104167e-01 1.72189283e-01 5.91398778e-01 6.04955946e-01\n",
            " 3.29230350e-01 2.57499117e-01 5.35835120e-02 5.92379503e-01\n",
            " 7.11256450e-01 9.66817800e-01 8.61587511e-01 3.82374549e-02\n",
            " 3.43227097e-01 4.22391547e-02 3.95403868e-01 9.53752125e-01\n",
            " 9.18617340e-02 7.71493094e-01 7.07089730e-01 8.51939921e-01]\n",
            "Media: 0.4984188235978674\n",
            "Varianza: 0.0737796721626798\n"
          ]
        }
      ]
    },
    {
      "cell_type": "code",
      "source": [
        "#pruba 5: crear arreglo de 50 numeros aleatorios y calcular media y varianza\n",
        "array_50=np.random.rand(50)\n",
        "print(array_50)\n",
        "array_media50=np.mean(array_50)\n",
        "print(\"Media:\", array_media50)\n",
        "array_varianza50=np.var(array_50)\n",
        "print(\"Varianza:\", array_varianza50)"
      ],
      "metadata": {
        "colab": {
          "base_uri": "https://localhost:8080/"
        },
        "id": "4-2Y8YBldi95",
        "outputId": "90386768-9cbd-4aba-e1f1-73801e800d1a"
      },
      "execution_count": 30,
      "outputs": [
        {
          "output_type": "stream",
          "name": "stdout",
          "text": [
            "[0.50841282 0.73405913 0.79841403 0.92517368 0.53533619 0.1100484\n",
            " 0.22854375 0.12310781 0.66662419 0.98464139 0.72900485 0.41384448\n",
            " 0.5372874  0.88280547 0.09838859 0.49163587 0.00330189 0.81341096\n",
            " 0.55569189 0.75974482 0.75445177 0.84836223 0.43946948 0.9559774\n",
            " 0.65540254 0.34554015 0.84002652 0.79393558 0.81264239 0.67035742\n",
            " 0.84488458 0.22360562 0.72845074 0.71707166 0.18679082 0.34719996\n",
            " 0.51950492 0.31888373 0.92313195 0.51048365 0.0541301  0.27993344\n",
            " 0.29674875 0.2474954  0.83538673 0.77809911 0.19321439 0.63021041\n",
            " 0.81193496 0.07499903]\n",
            "Media: 0.5507560599439443\n",
            "Varianza: 0.0789249296159941\n"
          ]
        }
      ]
    },
    {
      "cell_type": "code",
      "source": [
        "#Ejercicio 6: Calcular la media de un arreglo usando np.sum\n",
        "array_100_sum=np.sum(array_100)/[len(array_100)]\n",
        "print(array_100_sum)"
      ],
      "metadata": {
        "colab": {
          "base_uri": "https://localhost:8080/"
        },
        "id": "wjIj6NHvitDW",
        "outputId": "9f2943bf-ed93-4296-8515-cd1750b15ba5"
      },
      "execution_count": 16,
      "outputs": [
        {
          "output_type": "stream",
          "name": "stdout",
          "text": [
            "[0.49841882]\n"
          ]
        }
      ]
    },
    {
      "cell_type": "code",
      "source": [
        "#prueba6: la media es la suma de x0 a xn dividido n\n",
        "array_50_sum=np.sum(array_50)/[len(array_50)]\n",
        "print(array_50_sum)"
      ],
      "metadata": {
        "colab": {
          "base_uri": "https://localhost:8080/"
        },
        "id": "8HMhJ-9wet6H",
        "outputId": "968c98f3-bd77-4ad3-efed-fc5898718d70"
      },
      "execution_count": 17,
      "outputs": [
        {
          "output_type": "stream",
          "name": "stdout",
          "text": [
            "[0.54884263]\n"
          ]
        }
      ]
    },
    {
      "cell_type": "code",
      "source": [
        "#ejercicio 7: Calcular la varianza de un arreglo usando np.sum y np.mean\n",
        "array_100_varianza=np.sum((array_100-np.mean(array_100))**2)/[len(array_100)]\n",
        "print(array_100_varianza)"
      ],
      "metadata": {
        "colab": {
          "base_uri": "https://localhost:8080/"
        },
        "id": "7Zdj3AxHlvu7",
        "outputId": "db2d08da-52a9-4760-f2a2-07bd1a6ee4b1"
      },
      "execution_count": 32,
      "outputs": [
        {
          "output_type": "stream",
          "name": "stdout",
          "text": [
            "[0.07377967]\n"
          ]
        }
      ]
    },
    {
      "cell_type": "code",
      "source": [
        "#Ejercicio8\n",
        "#Crear un array de números aleatorios usando np.random.randn.rand\n",
        "\n",
        "array_aletorio=np.random.rand(5)\n",
        "print(array_aletorio)"
      ],
      "metadata": {
        "id": "KfQNeLQJl6J5",
        "colab": {
          "base_uri": "https://localhost:8080/"
        },
        "outputId": "e062a61c-3dbb-48ea-abce-5e1f9a5b6944"
      },
      "execution_count": 27,
      "outputs": [
        {
          "output_type": "stream",
          "name": "stdout",
          "text": [
            "[0.36629786 0.12075462 0.74656064 0.05535301 0.47638366]\n"
          ]
        }
      ]
    }
  ]
}